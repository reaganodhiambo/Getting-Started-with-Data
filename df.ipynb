{
 "cells": [
  {
   "cell_type": "code",
   "execution_count": null,
   "id": "fa80193b",
   "metadata": {},
   "outputs": [],
   "source": [
    "import pandas as pd"
   ]
  },
  {
   "cell_type": "code",
   "execution_count": null,
   "id": "81f008ae",
   "metadata": {},
   "outputs": [],
   "source": [
    "data = {\n",
    "    'name': ['John', 'Mary', 'Peter', 'Lisa'],\n",
    "    'age': [25, 30, 28, 35],\n",
    "    'city': ['New York', 'Paris', 'London', 'Tokyo'],\n",
    "    'salary': [50000, 80000, 60000, 90000]\n",
    "}"
   ]
  },
  {
   "cell_type": "code",
   "execution_count": null,
   "id": "92f383cf",
   "metadata": {},
   "outputs": [],
   "source": [
    "df = pd.DataFrame(data)"
   ]
  },
  {
   "cell_type": "code",
   "execution_count": null,
   "id": "ec771d99",
   "metadata": {},
   "outputs": [],
   "source": [
    "df"
   ]
  },
  {
   "cell_type": "code",
   "execution_count": null,
   "id": "be2b4f9c",
   "metadata": {},
   "outputs": [],
   "source": [
    "df['salary']"
   ]
  },
  {
   "cell_type": "code",
   "execution_count": null,
   "id": "0bf75d96",
   "metadata": {},
   "outputs": [],
   "source": [
    "df.salary"
   ]
  },
  {
   "cell_type": "code",
   "execution_count": null,
   "id": "ad461724",
   "metadata": {},
   "outputs": [],
   "source": [
    "df[['name', 'age']]"
   ]
  },
  {
   "cell_type": "code",
   "execution_count": null,
   "id": "480fc38f",
   "metadata": {},
   "outputs": [],
   "source": [
    "df.columns"
   ]
  },
  {
   "attachments": {},
   "cell_type": "markdown",
   "id": "045f2de9",
   "metadata": {},
   "source": [
    "#### Below code returns series of data on indexs specified using iloc  \n",
    "#### you can pass one or more indices"
   ]
  },
  {
   "cell_type": "code",
   "execution_count": null,
   "id": "5d50d02c",
   "metadata": {},
   "outputs": [],
   "source": [
    "df.iloc[[1,2]]"
   ]
  },
  {
   "attachments": {},
   "cell_type": "markdown",
   "id": "d75dfbc8",
   "metadata": {},
   "source": [
    "### Below code is for getting both rows and columns"
   ]
  },
  {
   "cell_type": "code",
   "execution_count": null,
   "id": "142dbf1d",
   "metadata": {},
   "outputs": [],
   "source": [
    "df.iloc[[0,1],2]"
   ]
  },
  {
   "attachments": {},
   "cell_type": "markdown",
   "id": "c342ee79",
   "metadata": {},
   "source": [
    "### *Search by index label shown below*  \n",
    "### *Pass in a list to specify multiple rows*"
   ]
  },
  {
   "cell_type": "code",
   "execution_count": null,
   "id": "e27b4a86",
   "metadata": {},
   "outputs": [],
   "source": [
    "df.loc[0]"
   ]
  },
  {
   "cell_type": "code",
   "execution_count": null,
   "id": "2839ddde",
   "metadata": {},
   "outputs": [],
   "source": [
    "df.loc[[0,1]]"
   ]
  }
 ],
 "metadata": {
  "kernelspec": {
   "display_name": "Python 3 (ipykernel)",
   "language": "python",
   "name": "python3"
  },
  "language_info": {
   "codemirror_mode": {
    "name": "ipython",
    "version": 3
   },
   "file_extension": ".py",
   "mimetype": "text/x-python",
   "name": "python",
   "nbconvert_exporter": "python",
   "pygments_lexer": "ipython3",
   "version": "3.11.2"
  }
 },
 "nbformat": 4,
 "nbformat_minor": 5
}
